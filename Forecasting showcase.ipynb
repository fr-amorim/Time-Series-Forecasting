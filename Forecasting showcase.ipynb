{
 "cells": [
  {
   "cell_type": "markdown",
   "id": "b24a8f02",
   "metadata": {},
   "source": [
    "# Time series forecasting\n",
    "\n",
    "This notebooks demonstrates skills of univariate and multivariate forecasting using the sktime library (built on top of sklearn)\n",
    "\n",
    "\n",
    "In this use-case, a temporal cross-validator strategy with expanding window is implemented. This strategy required the implementation of a new child class of `BaseSplitter` from `sklearn.forecasting.model_evaluation`. This class is capable of performing cross validation on windows with specified cutoffs, while keeping all of the past observations for training."
   ]
  },
  {
   "cell_type": "code",
   "execution_count": 1,
   "id": "a0546179",
   "metadata": {},
   "outputs": [],
   "source": [
    "from sk_utils import *"
   ]
  },
  {
   "cell_type": "code",
   "execution_count": 2,
   "id": "ed0ec16a",
   "metadata": {},
   "outputs": [],
   "source": [
    "from sktime.datasets import load_longley\n",
    "from sktime.forecasting.compose import ColumnEnsembleForecaster\n",
    "from sktime.forecasting.exp_smoothing import ExponentialSmoothing\n",
    "from sktime.forecasting.trend import PolynomialTrendForecaster\n",
    "import custom_spliters as cs"
   ]
  },
  {
   "cell_type": "code",
   "execution_count": 3,
   "id": "af52f922",
   "metadata": {},
   "outputs": [],
   "source": [
    "from joblib import Parallel, delayed\n",
    "import itertools\n",
    "from functools import partial\n",
    "import pandas_utils as pdu\n",
    "from sktime.forecasting.model_evaluation import evaluate"
   ]
  },
  {
   "cell_type": "code",
   "execution_count": 17,
   "id": "3061cae0",
   "metadata": {},
   "outputs": [],
   "source": [
    "#setup default plot sizes for jupyter\n",
    "import matplotlib.pyplot as plt\n",
    "plt.rcParams[\"figure.dpi\"] = 100\n",
    "plt.rcParams[\"figure.figsize\"] = (10,5)"
   ]
  },
  {
   "cell_type": "code",
   "execution_count": 5,
   "id": "39bb5854",
   "metadata": {},
   "outputs": [
    {
     "data": {
      "text/html": [
       "<div>\n",
       "<style scoped>\n",
       "    .dataframe tbody tr th:only-of-type {\n",
       "        vertical-align: middle;\n",
       "    }\n",
       "\n",
       "    .dataframe tbody tr th {\n",
       "        vertical-align: top;\n",
       "    }\n",
       "\n",
       "    .dataframe thead th {\n",
       "        text-align: right;\n",
       "    }\n",
       "</style>\n",
       "<table border=\"1\" class=\"dataframe\">\n",
       "  <thead>\n",
       "    <tr style=\"text-align: right;\">\n",
       "      <th></th>\n",
       "      <th>GNPDEFL</th>\n",
       "      <th>GNP</th>\n",
       "      <th>UNEMP</th>\n",
       "      <th>ARMED</th>\n",
       "      <th>POP</th>\n",
       "    </tr>\n",
       "    <tr>\n",
       "      <th>Period</th>\n",
       "      <th></th>\n",
       "      <th></th>\n",
       "      <th></th>\n",
       "      <th></th>\n",
       "      <th></th>\n",
       "    </tr>\n",
       "  </thead>\n",
       "  <tbody>\n",
       "    <tr>\n",
       "      <th>1947</th>\n",
       "      <td>83.0</td>\n",
       "      <td>234289.0</td>\n",
       "      <td>2356.0</td>\n",
       "      <td>1590.0</td>\n",
       "      <td>107608.0</td>\n",
       "    </tr>\n",
       "    <tr>\n",
       "      <th>1948</th>\n",
       "      <td>88.5</td>\n",
       "      <td>259426.0</td>\n",
       "      <td>2325.0</td>\n",
       "      <td>1456.0</td>\n",
       "      <td>108632.0</td>\n",
       "    </tr>\n",
       "    <tr>\n",
       "      <th>1949</th>\n",
       "      <td>88.2</td>\n",
       "      <td>258054.0</td>\n",
       "      <td>3682.0</td>\n",
       "      <td>1616.0</td>\n",
       "      <td>109773.0</td>\n",
       "    </tr>\n",
       "    <tr>\n",
       "      <th>1950</th>\n",
       "      <td>89.5</td>\n",
       "      <td>284599.0</td>\n",
       "      <td>3351.0</td>\n",
       "      <td>1650.0</td>\n",
       "      <td>110929.0</td>\n",
       "    </tr>\n",
       "    <tr>\n",
       "      <th>1951</th>\n",
       "      <td>96.2</td>\n",
       "      <td>328975.0</td>\n",
       "      <td>2099.0</td>\n",
       "      <td>3099.0</td>\n",
       "      <td>112075.0</td>\n",
       "    </tr>\n",
       "    <tr>\n",
       "      <th>1952</th>\n",
       "      <td>98.1</td>\n",
       "      <td>346999.0</td>\n",
       "      <td>1932.0</td>\n",
       "      <td>3594.0</td>\n",
       "      <td>113270.0</td>\n",
       "    </tr>\n",
       "    <tr>\n",
       "      <th>1953</th>\n",
       "      <td>99.0</td>\n",
       "      <td>365385.0</td>\n",
       "      <td>1870.0</td>\n",
       "      <td>3547.0</td>\n",
       "      <td>115094.0</td>\n",
       "    </tr>\n",
       "    <tr>\n",
       "      <th>1954</th>\n",
       "      <td>100.0</td>\n",
       "      <td>363112.0</td>\n",
       "      <td>3578.0</td>\n",
       "      <td>3350.0</td>\n",
       "      <td>116219.0</td>\n",
       "    </tr>\n",
       "    <tr>\n",
       "      <th>1955</th>\n",
       "      <td>101.2</td>\n",
       "      <td>397469.0</td>\n",
       "      <td>2904.0</td>\n",
       "      <td>3048.0</td>\n",
       "      <td>117388.0</td>\n",
       "    </tr>\n",
       "    <tr>\n",
       "      <th>1956</th>\n",
       "      <td>104.6</td>\n",
       "      <td>419180.0</td>\n",
       "      <td>2822.0</td>\n",
       "      <td>2857.0</td>\n",
       "      <td>118734.0</td>\n",
       "    </tr>\n",
       "    <tr>\n",
       "      <th>1957</th>\n",
       "      <td>108.4</td>\n",
       "      <td>442769.0</td>\n",
       "      <td>2936.0</td>\n",
       "      <td>2798.0</td>\n",
       "      <td>120445.0</td>\n",
       "    </tr>\n",
       "    <tr>\n",
       "      <th>1958</th>\n",
       "      <td>110.8</td>\n",
       "      <td>444546.0</td>\n",
       "      <td>4681.0</td>\n",
       "      <td>2637.0</td>\n",
       "      <td>121950.0</td>\n",
       "    </tr>\n",
       "    <tr>\n",
       "      <th>1959</th>\n",
       "      <td>112.6</td>\n",
       "      <td>482704.0</td>\n",
       "      <td>3813.0</td>\n",
       "      <td>2552.0</td>\n",
       "      <td>123366.0</td>\n",
       "    </tr>\n",
       "    <tr>\n",
       "      <th>1960</th>\n",
       "      <td>114.2</td>\n",
       "      <td>502601.0</td>\n",
       "      <td>3931.0</td>\n",
       "      <td>2514.0</td>\n",
       "      <td>125368.0</td>\n",
       "    </tr>\n",
       "    <tr>\n",
       "      <th>1961</th>\n",
       "      <td>115.7</td>\n",
       "      <td>518173.0</td>\n",
       "      <td>4806.0</td>\n",
       "      <td>2572.0</td>\n",
       "      <td>127852.0</td>\n",
       "    </tr>\n",
       "    <tr>\n",
       "      <th>1962</th>\n",
       "      <td>116.9</td>\n",
       "      <td>554894.0</td>\n",
       "      <td>4007.0</td>\n",
       "      <td>2827.0</td>\n",
       "      <td>130081.0</td>\n",
       "    </tr>\n",
       "  </tbody>\n",
       "</table>\n",
       "</div>"
      ],
      "text/plain": [
       "        GNPDEFL       GNP   UNEMP   ARMED       POP\n",
       "Period                                             \n",
       "1947       83.0  234289.0  2356.0  1590.0  107608.0\n",
       "1948       88.5  259426.0  2325.0  1456.0  108632.0\n",
       "1949       88.2  258054.0  3682.0  1616.0  109773.0\n",
       "1950       89.5  284599.0  3351.0  1650.0  110929.0\n",
       "1951       96.2  328975.0  2099.0  3099.0  112075.0\n",
       "1952       98.1  346999.0  1932.0  3594.0  113270.0\n",
       "1953       99.0  365385.0  1870.0  3547.0  115094.0\n",
       "1954      100.0  363112.0  3578.0  3350.0  116219.0\n",
       "1955      101.2  397469.0  2904.0  3048.0  117388.0\n",
       "1956      104.6  419180.0  2822.0  2857.0  118734.0\n",
       "1957      108.4  442769.0  2936.0  2798.0  120445.0\n",
       "1958      110.8  444546.0  4681.0  2637.0  121950.0\n",
       "1959      112.6  482704.0  3813.0  2552.0  123366.0\n",
       "1960      114.2  502601.0  3931.0  2514.0  125368.0\n",
       "1961      115.7  518173.0  4806.0  2572.0  127852.0\n",
       "1962      116.9  554894.0  4007.0  2827.0  130081.0"
      ]
     },
     "execution_count": 5,
     "metadata": {},
     "output_type": "execute_result"
    }
   ],
   "source": [
    "#this is the multivariate dataset\n",
    "#our target is to accurately predict all variables\n",
    "_, y = load_longley()\n",
    "y"
   ]
  },
  {
   "cell_type": "code",
   "execution_count": 6,
   "id": "70689d6f",
   "metadata": {},
   "outputs": [],
   "source": [
    "#here is the instanciation of a Custom splitter, implemented in custom_splitters.py\n",
    "cv = cs.CustomSplitter(\n",
    "    cutoffs = y.index[-8:-3:]\n",
    "    , fh = [1,2,3]\n",
    ")"
   ]
  },
  {
   "cell_type": "code",
   "execution_count": 7,
   "id": "9a2ad593",
   "metadata": {},
   "outputs": [
    {
     "name": "stdout",
     "output_type": "stream",
     "text": [
      "Number of Folds = 5\n"
     ]
    },
    {
     "data": {
      "image/png": "[encoded data removed]",
      "text/plain": [
       "<Figure size 1152x345.6 with 1 Axes>"
      ]
     },
     "metadata": {
      "needs_background": "light"
     },
     "output_type": "display_data"
    }
   ],
   "source": [
    "#a graphical representation of the cross validation windows (same as folds)\n",
    "n_splits = cv.get_n_splits(y)\n",
    "print(f\"Number of Folds = {n_splits}\")\n",
    "train_windows, test_windows = get_windows(y.iloc[:,0], cv)\n",
    "plot_windows(y, train_windows, test_windows)"
   ]
  },
  {
   "cell_type": "code",
   "execution_count": 9,
   "id": "14162920",
   "metadata": {},
   "outputs": [],
   "source": [
    "#setup the parallel dispatcher\n",
    "n_jobs = 4\n",
    "pre_dispatch=\"2*n_jobs\"\n",
    "backend=\"loky\"\n",
    "\n",
    "parallel = Parallel(\n",
    "            n_jobs=n_jobs, pre_dispatch=pre_dispatch, backend=backend\n",
    "    )"
   ]
  },
  {
   "cell_type": "code",
   "execution_count": 10,
   "id": "6a1292cc",
   "metadata": {},
   "outputs": [],
   "source": [
    "#make the dataset larger to test for runtime performance\n",
    "_, y = load_longley()\n",
    "# y = y.join(y, rsuffix='_1').join(y, rsuffix='_2').join(y, rsuffix='_3')\n",
    "# y = y.join(y, rsuffix='_a')"
   ]
  },
  {
   "cell_type": "markdown",
   "id": "7ef44b3a",
   "metadata": {},
   "source": [
    "### Backtesting"
   ]
  },
  {
   "cell_type": "code",
   "execution_count": 11,
   "id": "91773b71",
   "metadata": {},
   "outputs": [],
   "source": [
    "from sktime.forecasting.compose import EnsembleForecaster\n",
    "from sktime.forecasting.tbats import TBATS\n",
    "from sktime.forecasting.var import VAR"
   ]
  },
  {
   "cell_type": "code",
   "execution_count": 13,
   "id": "d16f471b",
   "metadata": {},
   "outputs": [],
   "source": [
    "#first, the setup\n",
    "\n",
    "#define the forecasterss\n",
    "forecasters = [ \n",
    "    #list of univariate forecasters\n",
    "    ExponentialSmoothing(trend=\"add\")\n",
    "    , ExponentialSmoothing(trend=\"mul\")\n",
    "    , ExponentialSmoothing()\n",
    "    \n",
    "    #and a multivariate one\n",
    "    , VAR()\n",
    "]\n",
    "\n",
    "#and an ensemble forecaster that combines predictions from univariate predictors\n",
    "ensemble = EnsembleForecaster(forecasters = [\n",
    "                (\"ExponentialSmoothing1\", ExponentialSmoothing(trend=\"mul\")),\n",
    "                (\"ExponentialSmoothing2\", ExponentialSmoothing())\n",
    "            ],\n",
    "            aggfunc = \"mean\")\n",
    "\n",
    "forecasters.append(ensemble)\n",
    "\n",
    "#setup the partial function for backtesting\n",
    "#y and cv are the same for all forecasters, so we can build a partial function to avoid input duplication\n",
    "backtest_partial = partial(backtest, y, cv)"
   ]
  },
  {
   "cell_type": "markdown",
   "id": "21d53f1b",
   "metadata": {},
   "source": [
    "The following method performs backtesting using the forecasters specified and the cross-validator created in the first section.\n",
    "The backtesting is done in parallel.\n",
    "\n",
    "It returns the cross validation predictions and all the final fitted models."
   ]
  },
  {
   "cell_type": "code",
   "execution_count": 14,
   "id": "23b679d4",
   "metadata": {},
   "outputs": [],
   "source": [
    "%%time\n",
    "fitted_forecasters, cross_val_preds = full_backtest(\n",
    "    forecasters\n",
    "    , backtest_partial\n",
    "    , y\n",
    "    , parallel\n",
    ")"
   ]
  },
  {
   "cell_type": "code",
   "execution_count": 35,
   "id": "908379bf",
   "metadata": {},
   "outputs": [
    {
     "data": {
      "text/plain": [
       "125"
      ]
     },
     "execution_count": 35,
     "metadata": {},
     "output_type": "execute_result"
    }
   ],
   "source": [
    "#total number of fitted models:\n",
    "#we are fitting one more per id, per fold, per method\n",
    "len(cross_val_preds.groupby('id fold method'.split()).groups)"
   ]
  },
  {
   "cell_type": "markdown",
   "id": "b611fdde",
   "metadata": {},
   "source": [
    "The `plot_predictions` method takes the `cross_val_preds` dataframe and displays the forecasts for a given series id and a given fold at a time, along with the true values"
   ]
  },
  {
   "cell_type": "code",
   "execution_count": 18,
   "id": "3aa28745",
   "metadata": {
    "scrolled": true
   },
   "outputs": [
    {
     "data": {
      "image/png": "[encoded data removed]",
      "text/plain": [
       "<Figure size 1000x500 with 1 Axes>"
      ]
     },
     "metadata": {
      "needs_background": "light"
     },
     "output_type": "display_data"
    }
   ],
   "source": [
    "plot_predictions(y\n",
    "                 , 'ARMED' #the target variable\n",
    "                 , cross_val_preds #the cross validated predictions\n",
    "                 , gap=3 #the gap (=forecast horizon)\n",
    "                )\n"
   ]
  },
  {
   "cell_type": "markdown",
   "id": "6074a3cd",
   "metadata": {},
   "source": [
    "### Evaluation"
   ]
  },
  {
   "cell_type": "code",
   "execution_count": 21,
   "id": "3e1d0c19",
   "metadata": {},
   "outputs": [],
   "source": [
    "from evaluate import *"
   ]
  },
  {
   "cell_type": "code",
   "execution_count": 22,
   "id": "e55b09f8",
   "metadata": {},
   "outputs": [],
   "source": [
    "metric_to_sort_by = 'mean_absolute_percentage_error'\n",
    "\n",
    "#these are the metrics per prediction gap (horizon)\n",
    "metrics_per_gap = (cross_val_preds\n",
    "    .groupby('gap method'.split())\n",
    "    .apply(get_metrics)\n",
    "    .apply(pd.Series)\n",
    "    .sort_values(by=f'gap {metric_to_sort_by}'.split())\n",
    ")\n",
    "\n",
    "#these are the metrics per prediction gap and forecasting window (fold)\n",
    "metrics_per_gap_fold = (cross_val_preds\n",
    "    .groupby('gap fold method'.split())\n",
    "    .apply(get_metrics)\n",
    "    .apply(pd.Series)\n",
    "    .sort_values(by=f'gap fold {metric_to_sort_by}'.split())\n",
    ")"
   ]
  },
  {
   "cell_type": "code",
   "execution_count": 32,
   "id": "8796537a",
   "metadata": {},
   "outputs": [
    {
     "data": {
      "image/png": "[encoded data removed]",
      "text/plain": [
       "<Figure size 1000x500 with 1 Axes>"
      ]
     },
     "metadata": {
      "needs_background": "light"
     },
     "output_type": "display_data"
    }
   ],
   "source": [
    "#evolution of the MAPE with the distance to the prediction\n",
    "_ = sns.boxplot(\n",
    "    data = metrics_per_gap.reset_index()\n",
    "    , x = 'gap'\n",
    "    , y = metric_to_sort_by\n",
    ")\n",
    "sns.despine()\n",
    "\n",
    "#as expected, the error grows as the distance to the prediction increases"
   ]
  },
  {
   "cell_type": "code",
   "execution_count": 33,
   "id": "8c3be6d6",
   "metadata": {},
   "outputs": [
    {
     "data": {
      "text/plain": [
       "{1: \"ExponentialSmoothing(trend='mul')\",\n",
       " 2: \"ExponentialSmoothing(trend='mul')\",\n",
       " 3: \"ExponentialSmoothing(trend='mul')\"}"
      ]
     },
     "execution_count": 33,
     "metadata": {},
     "output_type": "execute_result"
    }
   ],
   "source": [
    "#these are the top performing methods per gap\n",
    "top_performers = dict(metrics_per_gap.groupby('gap').head(1).index)\n",
    "top_performers"
   ]
  },
  {
   "cell_type": "code",
   "execution_count": 34,
   "id": "9f7a8cf6",
   "metadata": {},
   "outputs": [
    {
     "data": {
      "text/html": [
       "<div>\n",
       "<style scoped>\n",
       "    .dataframe tbody tr th:only-of-type {\n",
       "        vertical-align: middle;\n",
       "    }\n",
       "\n",
       "    .dataframe tbody tr th {\n",
       "        vertical-align: top;\n",
       "    }\n",
       "\n",
       "    .dataframe thead th {\n",
       "        text-align: right;\n",
       "    }\n",
       "</style>\n",
       "<table border=\"1\" class=\"dataframe\">\n",
       "  <thead>\n",
       "    <tr style=\"text-align: right;\">\n",
       "      <th></th>\n",
       "      <th>ExponentialSmoothing(trend='mul')</th>\n",
       "    </tr>\n",
       "  </thead>\n",
       "  <tbody>\n",
       "    <tr>\n",
       "      <th>GNPDEFL</th>\n",
       "      <td>ExponentialSmoothing(trend='mul')</td>\n",
       "    </tr>\n",
       "    <tr>\n",
       "      <th>GNP</th>\n",
       "      <td>ExponentialSmoothing(trend='mul')</td>\n",
       "    </tr>\n",
       "    <tr>\n",
       "      <th>UNEMP</th>\n",
       "      <td>ExponentialSmoothing(trend='mul')</td>\n",
       "    </tr>\n",
       "    <tr>\n",
       "      <th>ARMED</th>\n",
       "      <td>ExponentialSmoothing(trend='mul')</td>\n",
       "    </tr>\n",
       "    <tr>\n",
       "      <th>POP</th>\n",
       "      <td>ExponentialSmoothing(trend='mul')</td>\n",
       "    </tr>\n",
       "    <tr>\n",
       "      <th>multivariate</th>\n",
       "      <td>ExponentialSmoothing(trend='mul')</td>\n",
       "    </tr>\n",
       "  </tbody>\n",
       "</table>\n",
       "</div>"
      ],
      "text/plain": [
       "              ExponentialSmoothing(trend='mul')\n",
       "GNPDEFL       ExponentialSmoothing(trend='mul')\n",
       "GNP           ExponentialSmoothing(trend='mul')\n",
       "UNEMP         ExponentialSmoothing(trend='mul')\n",
       "ARMED         ExponentialSmoothing(trend='mul')\n",
       "POP           ExponentialSmoothing(trend='mul')\n",
       "multivariate  ExponentialSmoothing(trend='mul')"
      ]
     },
     "execution_count": 34,
     "metadata": {},
     "output_type": "execute_result"
    }
   ],
   "source": [
    "#these are all the top forecasters fitted\n",
    "fitted_forecasters.loc[:, set(top_performers.values())]"
   ]
  },
  {
   "cell_type": "markdown",
   "id": "a0590de1",
   "metadata": {},
   "source": [
    "## TODO:\n",
    "- Create the dataset to explore hierarchies and grouped forecasting\n",
    "- Add an imputer that clears all initial NaNs up to the first value > 0\n",
    "- Train an ensemble learner that uses predictions from surrogate models"
   ]
  },
  {
   "cell_type": "markdown",
   "id": "795b8a4f",
   "metadata": {},
   "source": [
    "## Statsforecast test"
   ]
  },
  {
   "cell_type": "markdown",
   "id": "49b3e804",
   "metadata": {},
   "source": [
    "StatsForecast claim to have a much faster implementation on univariate predictors. \n",
    "\n",
    "I am, however, unable to reproduce their run times for larger series."
   ]
  },
  {
   "cell_type": "code",
   "execution_count": 1,
   "id": "714574e6",
   "metadata": {},
   "outputs": [],
   "source": [
    "from statsforecast.core import StatsForecast\n",
    "from statsforecast.models import auto_arima"
   ]
  },
  {
   "cell_type": "code",
   "execution_count": 2,
   "id": "ec722093",
   "metadata": {},
   "outputs": [],
   "source": [
    "import time"
   ]
  },
  {
   "cell_type": "code",
   "execution_count": 3,
   "id": "9dc32a6b",
   "metadata": {},
   "outputs": [],
   "source": [
    "import pandas as pd\n",
    "train = pd.read_csv('M4-Hourly.csv')\n",
    "test = pd.read_csv('M4-Hourly-test.csv').rename(columns={'y': 'y_test'})"
   ]
  },
  {
   "cell_type": "code",
   "execution_count": 4,
   "id": "47d4835b",
   "metadata": {},
   "outputs": [],
   "source": [
    "series = train.unique_id.unique()[:10]"
   ]
  },
  {
   "cell_type": "code",
   "execution_count": 5,
   "id": "827593a7",
   "metadata": {},
   "outputs": [],
   "source": [
    "models = [(auto_arima, 24)]"
   ]
  },
  {
   "cell_type": "code",
   "execution_count": 24,
   "id": "db9c22b7",
   "metadata": {},
   "outputs": [],
   "source": [
    "fcst = StatsForecast(train.set_index('unique_id ds'.split()).loc[:, 600:,:].reset_index('ds')\n",
    "                     #train.set_index('unique_id').loc[series]\n",
    "                     , models=models\n",
    "                     , freq='H'\n",
    "                     , n_jobs=10\n",
    "                    )"
   ]
  },
  {
   "cell_type": "code",
   "execution_count": 25,
   "id": "7ab3750e",
   "metadata": {},
   "outputs": [
    {
     "data": {
      "text/plain": [
       "2606.2058057785034"
      ]
     },
     "execution_count": 25,
     "metadata": {},
     "output_type": "execute_result"
    }
   ],
   "source": [
    "st_time = time.time()\n",
    "forecasts = fcst.forecast(4)\n",
    "time.time()-st_time"
   ]
  },
  {
   "cell_type": "code",
   "execution_count": null,
   "id": "ddce422b",
   "metadata": {},
   "outputs": [],
   "source": []
  }
 ],
 "metadata": {
  "kernelspec": {
   "display_name": "Python 3 (ipykernel)",
   "language": "python",
   "name": "python3"
  },
  "language_info": {
   "codemirror_mode": {
    "name": "ipython",
    "version": 3
   },
   "file_extension": ".py",
   "mimetype": "text/x-python",
   "name": "python",
   "nbconvert_exporter": "python",
   "pygments_lexer": "ipython3",
   "version": "3.9.12"
  }
 },
 "nbformat": 4,
 "nbformat_minor": 5
}
